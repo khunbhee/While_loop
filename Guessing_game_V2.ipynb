{
 "cells": [
  {
   "cell_type": "code",
   "execution_count": 19,
   "metadata": {},
   "outputs": [
    {
     "name": "stdout",
     "output_type": "stream",
     "text": [
      "Guess a number between 1 to 10: 1\n",
      "too low!\n",
      "Guess a number between 1 to 10: 2\n",
      "2 is the rigth number\n",
      "Do you wanna play again ? (y/n)y\n",
      "Guess a number between 1 to 10: 4\n",
      "too low!\n",
      "Guess a number between 1 to 10: 6\n",
      "too high!\n",
      "Guess a number between 1 to 10: 5\n",
      "5 is the rigth number\n",
      "Do you wanna play again ? (y/n)n\n",
      "It's okay maybe next time\n"
     ]
    }
   ],
   "source": [
    "import random\n",
    "random_number = random.randint(1,10)\n",
    "# random_number = int(random_number)\n",
    "# if guess == random_number:\n",
    "#while loop wont run\n",
    "while guess != random_number:\n",
    "    guess = input(\"Guess a number between 1 to 10: \" )\n",
    "    guess = int(guess)\n",
    "    if guess < random_number:\n",
    "        print(\"too low!\")\n",
    "    elif guess> random_number:\n",
    "        print (\"too high!\")\n",
    "    else:\n",
    "        print (f\"{random_number} is the rigth number\")\n",
    "        play_again = input(\"Do you wanna play again ? (y/n)\")\n",
    "        if play_again == \"y\":\n",
    "            random_number = random.randint(1,10)\n",
    "            guess = None\n",
    "        else:\n",
    "            print(\"It's okay maybe next time\")\n",
    "            break\n",
    "        "
   ]
  },
  {
   "cell_type": "code",
   "execution_count": null,
   "metadata": {},
   "outputs": [],
   "source": []
  }
 ],
 "metadata": {
  "kernelspec": {
   "display_name": "Python 3",
   "language": "python",
   "name": "python3"
  },
  "language_info": {
   "codemirror_mode": {
    "name": "ipython",
    "version": 3
   },
   "file_extension": ".py",
   "mimetype": "text/x-python",
   "name": "python",
   "nbconvert_exporter": "python",
   "pygments_lexer": "ipython3",
   "version": "3.7.3"
  }
 },
 "nbformat": 4,
 "nbformat_minor": 2
}
